{
 "cells": [
  {
   "cell_type": "code",
   "execution_count": null,
   "id": "6dbe0254-6046-4a53-ac0e-5deb068b6877",
   "metadata": {
    "tags": []
   },
   "outputs": [],
   "source": [
    "#pip install yfinance\n",
    "#pip install pandas\n",
    "#pip install matplotlib\n",
    "#pip install tqdm"
   ]
  },
  {
   "cell_type": "code",
   "execution_count": null,
   "metadata": {},
   "outputs": [],
   "source": [
    "# 取得する銘柄コードを格納\n",
    "Scraping_Stocks = [\n",
    "    \"8411\",\n",
    "]"
   ]
  },
  {
   "cell_type": "code",
   "execution_count": null,
   "id": "77ecc596-459d-4de5-8cfa-f0fd307608cd",
   "metadata": {
    "colab": {
     "base_uri": "https://localhost:8080/"
    },
    "id": "LLCSp0YPO1Zl",
    "outputId": "6508957f-5c4e-4f50-8236-468094b0c597",
    "tags": []
   },
   "outputs": [],
   "source": [
    "# data_listに株価取得\n",
    "import yfinance\n",
    "import pandas as pd\n",
    "from tqdm import tqdm\n",
    "\n",
    "data_list = []\n",
    "for code in tqdm(Scraping_Stocks):\n",
    "    tmp = yfinance.download(f\"{str(code)}.T\", progress=False)\n",
    "    tmp[\"code\"] = code\n",
    "    data_list.append(tmp)"
   ]
  },
  {
   "cell_type": "code",
   "execution_count": null,
   "id": "a216be91",
   "metadata": {},
   "outputs": [],
   "source": [
    "df = pd.concat(data_list) #データフレームの結合\n",
    "df #データの確認"
   ]
  },
  {
   "cell_type": "code",
   "execution_count": null,
   "id": "36636df1-2894-4569-a105-d6a932966734",
   "metadata": {
    "tags": []
   },
   "outputs": [],
   "source": [
    "# \"Adj Close\" = 調整後終値\n",
    "import matplotlib.pyplot as plt\n",
    "df[\"Adj Close\"].plot()\n",
    "plt.show()\n",
    "\"\"\"調整後終値 = 株式分割前の終値を株式分割後の終値に調整したもの\"\"\""
   ]
  },
  {
   "cell_type": "code",
   "execution_count": null,
   "id": "61abd596-0603-4658-b9ed-d99c58f8f5ce",
   "metadata": {
    "colab": {
     "base_uri": "https://localhost:8080/"
    },
    "id": "LLCSp0YPO1Zl",
    "outputId": "6508957f-5c4e-4f50-8236-468094b0c597",
    "tags": []
   },
   "outputs": [],
   "source": [
    "# 25日移動平均線を基準とする\n",
    "window = 25  # 移動平均のウィンドウサイズ\n",
    "df['MA'] = df['Adj Close'].rolling(window=window).mean() #移動平均線\n",
    "df['StdDev'] = df['Adj Close'].rolling(window=25).std() #標準偏差\n",
    "df['Deviation'] = (df['Adj Close'] - df['MA']) / df['StdDev'] #移動平均線からの乖離率\n",
    "df['Bollinger bands+2'] = df['MA'] + (2*df['StdDev']) #ボリンジャーバンド+2σ\n",
    "df['Bollinger bands-2'] = df['MA'] - (2*df['StdDev']) #ボリンジャーバンド-2σ"
   ]
  },
  {
   "cell_type": "code",
   "execution_count": null,
   "id": "e4615ba8-36f7-48db-8f69-b50d6535b7e1",
   "metadata": {
    "tags": []
   },
   "outputs": [],
   "source": [
    "df # データを視覚的に確認する"
   ]
  },
  {
   "cell_type": "code",
   "execution_count": null,
   "id": "57db762e-fd32-4b71-ab60-a0994f14cab9",
   "metadata": {
    "tags": []
   },
   "outputs": [],
   "source": [
    "# プロットの範囲指定\n",
    "start_date = '2022-01-01'\n",
    "end_date = '2023-06-06'\n",
    "\n",
    "# 範囲指定のためのスライシング\n",
    "filtered_data = df.loc[start_date:end_date]"
   ]
  },
  {
   "cell_type": "code",
   "execution_count": null,
   "id": "407f36f4",
   "metadata": {},
   "outputs": [],
   "source": [
    "# 標準偏差データのプロット\n",
    "filtered_data['StdDev'].plot()\n",
    "plt.show() # プロットの表示"
   ]
  },
  {
   "cell_type": "code",
   "execution_count": null,
   "id": "aedda2f9-1b91-45af-9f7e-215febc84a50",
   "metadata": {
    "tags": []
   },
   "outputs": [],
   "source": [
    "# 調整後終値、移動平均線、ボリンジャーバンドデータのプロット\n",
    "filtered_data[['Bollinger bands+2','MA','Bollinger bands-2','Adj Close']].plot()\n",
    "plt.show() # プロットの表示"
   ]
  },
  {
   "cell_type": "code",
   "execution_count": null,
   "id": "bf583b1e-694e-49be-9de3-b1c7107fb728",
   "metadata": {
    "tags": []
   },
   "outputs": [],
   "source": [
    "# 移動平均線からの乖離率データのプロット\n",
    "filtered_data[['Deviation']].plot()\n",
    "plt.show() # プロットの表示"
   ]
  },
  {
   "cell_type": "code",
   "execution_count": null,
   "id": "27aa415c-0d3c-4d5c-93ba-fb2c97c127ad",
   "metadata": {
    "tags": []
   },
   "outputs": [],
   "source": [
    "# 今日をTimestampオブジェクトに変換\n",
    "import datetime\n",
    "today = datetime.date.today()\n",
    "today = pd.Timestamp(today)  # 日付をTimestampオブジェクトに変換"
   ]
  },
  {
   "cell_type": "code",
   "execution_count": null,
   "id": "2566423b-d526-4e6e-93d7-270fa11b8e10",
   "metadata": {
    "tags": []
   },
   "outputs": [],
   "source": [
    "# 売買シグナル、ポジション変数を初期化\n",
    "df['Signal'] = 0\n",
    "df['Position'] = 0"
   ]
  },
  {
   "cell_type": "code",
   "execution_count": null,
   "id": "a5396b66-7b34-4f4a-804c-c021aaeafc49",
   "metadata": {
    "tags": []
   },
   "outputs": [],
   "source": [
    "# バックテストの実行\n",
    "for i in range(25, len(df)): #24行目以前は 移動平均線等が NaN のため25行目から最終行まで\n",
    "    if df.index[i] == pd.Timestamp(today.date()):\n",
    "        break\n",
    "\n",
    "    df.loc[df.index[i], 'Position'] = df.loc[df.index[i-1], 'Position']\n",
    "    if df['Adj Close'].iloc[i] <= df['Bollinger bands-2'].iloc[i]:\n",
    "        if df['Position'].iloc[i] == 0:  # ポジションがない場合にのみ買いシグナルを発生\n",
    "            df.loc[df.index[i], 'Position'] = 1\n",
    "            df.loc[df.index[i], 'Signal'] = 1\n",
    "        elif df['Position'].iloc[i] == -1:  # 売りポジションがある場合には売りポジションをクローズ\n",
    "            df.loc[df.index[i], 'Position'] = 0\n",
    "            df.loc[df.index[i], 'Signal'] = 1\n",
    "    elif df['Adj Close'].iloc[i] >= df['Bollinger bands+2'].iloc[i]:\n",
    "        if df['Position'].iloc[i] == 0:  # ポジションがある場合にのみ売りシグナルを発生\n",
    "            df.loc[df.index[i], 'Position'] = -1  # ポジションを売りに切り替え\n",
    "            df.loc[df.index[i], 'Signal'] = -1\n",
    "        elif df['Position'].iloc[i] == 1:  # 買いポジションがある場合には買いポジションをクローズ\n",
    "            df.loc[df.index[i], 'Position'] = 0\n",
    "            df.loc[df.index[i], 'Signal'] = -1\n",
    "\n",
    "df = df.drop(df.index[i+1:])  # i行目以降の行を削除"
   ]
  },
  {
   "cell_type": "code",
   "execution_count": null,
   "id": "ca08c889-ac97-4347-9b9a-0d81cd091f64",
   "metadata": {
    "tags": []
   },
   "outputs": [],
   "source": [
    "#標準偏差 +2以上 or -2以下\n",
    "filtered_data = df[(df['Deviation'] >= 2) | (df['Deviation'] <= -2)][['Deviation','Signal','Position']]\n",
    "filtered_data.tail(10)"
   ]
  },
  {
   "cell_type": "code",
   "execution_count": null,
   "id": "ee3cf202-d6a6-4f9d-bc48-bde8fd839679",
   "metadata": {
    "tags": []
   },
   "outputs": [],
   "source": [
    "\"\"\"リターンの算出\"\"\"\n",
    "# 初期資本 100万年、1ポジション = 100株\n",
    "capital = 1000000  # 初期資本\n",
    "position_size = 100  # 1ポジションの株数"
   ]
  },
  {
   "cell_type": "code",
   "execution_count": null,
   "id": "9e46641a",
   "metadata": {},
   "outputs": [],
   "source": [
    "\"\"\"株数変化列、株式資産、キャッシュ残高、総資産、リターン、累積リターンの算出\"\"\"\n",
    "#df['Position'] = df['Position'].shift()  # シグナルを1日シフトしてポジション列を作成\n",
    "#df['Position'].fillna(0, inplace=True)  # ポジション列の最初の値を0に設定\n",
    "\n",
    "df['Shares'] = df['Position'] - df['Position'].shift()  # 株数変化列を作成\n",
    "df['Shares'].fillna(0, inplace=True)  # 株数変化列の最初の値を0に設定\n",
    "\n",
    "df['Portfolio'] = df['Adj Close'] * df['Position'] * position_size  # ポートフォリオ価値列を作成\n",
    "df['Portfolio'].iloc[0] = 0  # 最初の日のポートフォリオ価値を0に設定\n",
    "\n",
    "df['Cash'] = capital - (df['Shares'] * df['Adj Close'] * position_size).cumsum()  # キャッシュ残高列を作成\n",
    "df['Value'] = df['Cash'] + df['Portfolio']  # 総資産列を作成\n",
    "\n",
    "df['Returns'] = df['Value'].pct_change()  # リターン列を作成\n",
    "df['Cumulative Returns'] = (1 + df['Returns']).cumprod()  # 累積リターン列を作成\n",
    "\n",
    "\"\"\"\n",
    "Shares = 株数変化列\n",
    "Portfolio = 株式資産\n",
    "Cash = キャッシュ残高\n",
    "Value = 総資産\n",
    "Returns = リターン\n",
    "Cumulative Returns = 累積リターン\n",
    "\"\"\""
   ]
  },
  {
   "cell_type": "code",
   "execution_count": null,
   "id": "364fde26-7e45-4c99-839d-109a082d7d0c",
   "metadata": {
    "tags": []
   },
   "outputs": [],
   "source": [
    "# バックテスト結果の表示\n",
    "print('Cumulative Returns:', df['Returns'].sum())\n",
    "print('Return:', df['Returns'].sum() * capital)  # リターンの計算"
   ]
  },
  {
   "cell_type": "code",
   "execution_count": null,
   "id": "0ee6ce66-292d-4631-bcda-3b199653e9aa",
   "metadata": {
    "tags": []
   },
   "outputs": [],
   "source": [
    "# プロットの設定\n",
    "plt.plot(df[['Returns','Cumulative Returns']])\n",
    "plt.legend(df[['Returns','Cumulative Returns']])\n",
    "plt.show()"
   ]
  },
  {
   "cell_type": "code",
   "execution_count": null,
   "id": "7afa3301-290b-4df0-80d8-db8fcf359f0b",
   "metadata": {
    "tags": []
   },
   "outputs": [],
   "source": [
    "# desktopにdf.csvとして保存\n",
    "import os\n",
    "desktop_path = os.path.join(os.path.expanduser('~'), 'Desktop')\n",
    "df.to_csv(os.path.join(desktop_path, 'df.csv'), index=True)"
   ]
  },
  {
   "cell_type": "code",
   "execution_count": null,
   "id": "f8a3c2f2-7834-44e9-b74e-02d081434019",
   "metadata": {},
   "outputs": [],
   "source": []
  }
 ],
 "metadata": {
  "kernelspec": {
   "display_name": "Python 3 (ipykernel)",
   "language": "python",
   "name": "python3"
  },
  "language_info": {
   "codemirror_mode": {
    "name": "ipython",
    "version": 3
   },
   "file_extension": ".py",
   "mimetype": "text/x-python",
   "name": "python",
   "nbconvert_exporter": "python",
   "pygments_lexer": "ipython3",
   "version": "3.10.9"
  }
 },
 "nbformat": 4,
 "nbformat_minor": 5
}
